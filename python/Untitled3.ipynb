{
 "cells": [
  {
   "cell_type": "code",
   "execution_count": 1,
   "id": "e7d316fa",
   "metadata": {},
   "outputs": [],
   "source": [
    "import pandas as pd\n"
   ]
  },
  {
   "cell_type": "code",
   "execution_count": 2,
   "id": "b691e32b",
   "metadata": {},
   "outputs": [],
   "source": [
    "swift= pd.read_csv('../input/NewSwiftSNweblist.csv')\n"
   ]
  },
  {
   "cell_type": "code",
   "execution_count": 3,
   "id": "1fab3030",
   "metadata": {},
   "outputs": [
    {
     "name": "stdout",
     "output_type": "stream",
     "text": [
      "         SNname       HostName  PSN          type redshifts OtherName Nobs  \\\n",
      "0     SN2022idx            NaN  NaN   Ia-91T-like       NaN       NaN  NaN   \n",
      "1     SN2022hrs        NGC4647  NaN            Ia       NaN       NaN  NaN   \n",
      "2     SN2022idx            NaN  NaN           NaN       NaN       NaN  NaN   \n",
      "3     SN2022ilv            NaN  NaN           NaN       NaN       NaN  NaN   \n",
      "4     SN2022ihz            NaN  NaN           NaN       NaN       NaN  NaN   \n",
      "...         ...            ...  ...           ...       ...       ...  ...   \n",
      "1018   SN2005cs       NGC 5194  NaN            II   0.00154       NaN   38   \n",
      "1019   SN2005cf  MCG -01-39-03  NaN            Ia   0.00646       NaN   60   \n",
      "1020   SN2005bf  MCG +00-27-05  NaN            Ib   0.01891       NaN    1   \n",
      "1021   SN2005bc       NGC 5698  NaN            Ia   0.01227       NaN    1   \n",
      "1022   SN2005am       NGC 2811  NaN            Ia    0.0079       NaN   76   \n",
      "\n",
      "     targetids           SNra         SNdec  ...  TF_dm  TF_dm_err TF_dm_ref  \\\n",
      "0          NaN  '12:53:12.200  -06:23:06.74  ...    NaN        NaN       NaN   \n",
      "1          NaN  '12:43:34.335  +11:34:35.87  ...    NaN        NaN       NaN   \n",
      "2          NaN            NaN           NaN  ...    NaN        NaN       NaN   \n",
      "3          NaN            NaN           NaN  ...    NaN        NaN       NaN   \n",
      "4          NaN            NaN           NaN  ...    NaN        NaN       NaN   \n",
      "...        ...            ...           ...  ...    ...        ...       ...   \n",
      "1018       NaN   '13:29:53.37   +47:10:28.2  ...    NaN        NaN       NaN   \n",
      "1019       NaN   '15:21:33.12   -07:26:57.1  ...    NaN        NaN       NaN   \n",
      "1020       NaN   '10:23:56.99   -03:11:29.3  ...    NaN        NaN       NaN   \n",
      "1021       NaN   '14:37:15.12  +38:27:23.04  ...    NaN        NaN       NaN   \n",
      "1022       NaN   '09:16:12.47   -16:18:16.0  ...    NaN        NaN       NaN   \n",
      "\n",
      "     TRGB_dm TRGB_dm_err  TRGB_ref  Other_dm  Other_dm_err Other_dm_ref  test  \n",
      "0        NaN         NaN       NaN       NaN           NaN          NaN   NaN  \n",
      "1        NaN         NaN       NaN       NaN           NaN          NaN   NaN  \n",
      "2        NaN         NaN       NaN       NaN           NaN          NaN   NaN  \n",
      "3        NaN         NaN       NaN       NaN           NaN          NaN   NaN  \n",
      "4        NaN         NaN       NaN       NaN           NaN          NaN   NaN  \n",
      "...      ...         ...       ...       ...           ...          ...   ...  \n",
      "1018     NaN         NaN       NaN       NaN           NaN          ref  test  \n",
      "1019     NaN         NaN       NaN       NaN           NaN          ref  test  \n",
      "1020     NaN         NaN       NaN       NaN           NaN          ref  test  \n",
      "1021     NaN         NaN       NaN       NaN           NaN          ref  test  \n",
      "1022     NaN         NaN       NaN       NaN           NaN          ref  test  \n",
      "\n",
      "[1023 rows x 70 columns]\n"
     ]
    }
   ],
   "source": [
    "print(swift)"
   ]
  },
  {
   "cell_type": "code",
   "execution_count": null,
   "id": "59456293",
   "metadata": {},
   "outputs": [],
   "source": []
  }
 ],
 "metadata": {
  "kernelspec": {
   "display_name": "Python 3 (ipykernel)",
   "language": "python",
   "name": "python3"
  },
  "language_info": {
   "codemirror_mode": {
    "name": "ipython",
    "version": 3
   },
   "file_extension": ".py",
   "mimetype": "text/x-python",
   "name": "python",
   "nbconvert_exporter": "python",
   "pygments_lexer": "ipython3",
   "version": "3.9.13"
  }
 },
 "nbformat": 4,
 "nbformat_minor": 5
}
