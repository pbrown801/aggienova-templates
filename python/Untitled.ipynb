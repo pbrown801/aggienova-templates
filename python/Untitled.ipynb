{
 "cells": [
  {
   "cell_type": "code",
   "execution_count": 1,
   "id": "a0c20ff1",
   "metadata": {},
   "outputs": [],
   "source": [
    "import pandas as pd\n",
    "import numpy as np\n",
    "from matplotlib import pyplot as plot\n",
    "from speccounts import *\n",
    "from utilities import *\n",
    "\n"
   ]
  },
  {
   "cell_type": "code",
   "execution_count": null,
   "id": "1e4ed377",
   "metadata": {},
   "outputs": [],
   "source": [
    "def mangle_poly(templatespectrum,filter_file_list, zeropointlist, pivotlist, counts_in,n):\n",
    "\n",
    "    input_wave,input_flux = clean_spectrum(\"../spectra/\" + templatespectrum)#dtype=float,usecols=(0,1),unpack=True)\n",
    "    clean_template = np.column_stack((input_wave,input_flux))\n",
    "\n",
    "    #######  Calculate the counts in each filter from the template and compare to counts_in\n",
    "\n",
    "    counts_array=get_counts_multi_filter(clean_template, filter_file_list)\n",
    "    ratio = np.zeros(len(counts_array))\n",
    "\n",
    "    for x in range(0,len(counts_array)):\n",
    "        ratio[x]=counts_in[x]/counts_array[x]\n",
    "\n",
    "    p=np.polyfit(pivotlist, ratio,n)\n",
    "    manglefunction= np.polyval(p,input_wave)\n",
    "\n",
    "    mangledspectrumflux=input_flux*manglefunction\n",
    "\n",
    "    return input_wave, mangledspectrumflux\n"
   ]
  },
  {
   "cell_type": "code",
   "execution_count": null,
   "id": "209b15c8",
   "metadata": {},
   "outputs": [],
   "source": [
    "def countrates2mags(output_file_name, template_spectrum):\n",
    "    counts_df=pd.read_csv('../input/COUNTS/'+output_file_name+'_mangledcounts.csv')\n",
    "    filter_bands= list(counts_df.columns[1:])\n",
    "    filter_file_list, zeropointlist, pivotlist = filterlist_to_filterfiles(\n",
    "       filter_bands , template_spectrum)\n",
    "    for idx,zeropoint in enumerate(zeropointlist):\n",
    "        counts_df[filter_bands[idx]]=counts_df[filter_bands[idx]].apply(lambda count: (math.log10(count)/-0.4)+zeropoint)\n",
    "    counts_df.to_csv('../output/MAGS/'+output_file_name+'_mangledmagsarray.csv', index=False)"
   ]
  }
 ],
 "metadata": {
  "kernelspec": {
   "display_name": "Python 3 (ipykernel)",
   "language": "python",
   "name": "python3"
  },
  "language_info": {
   "codemirror_mode": {
    "name": "ipython",
    "version": 3
   },
   "file_extension": ".py",
   "mimetype": "text/x-python",
   "name": "python",
   "nbconvert_exporter": "python",
   "pygments_lexer": "ipython3",
   "version": "3.9.13"
  }
 },
 "nbformat": 4,
 "nbformat_minor": 5
}
