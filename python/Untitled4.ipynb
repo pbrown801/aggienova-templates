{
 "cells": [
  {
   "cell_type": "code",
   "execution_count": 1,
   "id": "2d1fab56",
   "metadata": {},
   "outputs": [],
   "source": [
    "\n"
   ]
  },
  {
   "cell_type": "code",
   "execution_count": 13,
   "id": "ee47dc34",
   "metadata": {},
   "outputs": [
    {
     "name": "stdout",
     "output_type": "stream",
     "text": [
      "SBF 30.91 0.31 SBF-0.16_Tonry_etal_2001\n"
     ]
    }
   ],
   "source": [
    "import pandas as pd\n",
    "sn_name='SN2005ke'\n",
    "swift= pd.read_csv('../input/NewSwiftSNweblist.csv')\n",
    "idex= swift.loc[swift.isin([sn_name]).any(axis=1)].index.tolist()\n",
    "idex=idex[0]\n",
    "Dist_method= swift['Method_best'][idex]\n",
    "Dist_mod= swift['Distance_best'][idex]\n",
    "Dist_err= swift['Distance_err_best'][idex]\n",
    "Dist_ref= swift['Refer_best'][idex]\n",
    "print(Dist_method, Dist_mod,Dist_err,Dist_ref)"
   ]
  },
  {
   "cell_type": "code",
   "execution_count": null,
   "id": "5fb8ddba",
   "metadata": {},
   "outputs": [],
   "source": []
  }
 ],
 "metadata": {
  "kernelspec": {
   "display_name": "Python 3 (ipykernel)",
   "language": "python",
   "name": "python3"
  },
  "language_info": {
   "codemirror_mode": {
    "name": "ipython",
    "version": 3
   },
   "file_extension": ".py",
   "mimetype": "text/x-python",
   "name": "python",
   "nbconvert_exporter": "python",
   "pygments_lexer": "ipython3",
   "version": "3.9.13"
  }
 },
 "nbformat": 4,
 "nbformat_minor": 5
}
