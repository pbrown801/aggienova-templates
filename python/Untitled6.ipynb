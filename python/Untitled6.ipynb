{
 "cells": [
  {
   "cell_type": "code",
   "execution_count": 17,
   "id": "34a9e9ec-e0ed-43cc-970e-225b830f9041",
   "metadata": {},
   "outputs": [],
   "source": [
    "import numpy as np\n",
    "import pandas as pd\n",
    "import filterlist_to_filterfiles\n",
    "\n",
    "# Function to parse the data from the file\n",
    "def parse_data(file_path):\n",
    "    columns = ['Filter', 'MJD', 'Mag', 'MagErr', '3SigMagLim', '0.98SatLim', 'Rate', 'RateErr', 'Ap', 'Frametime', 'Exp', 'Telapse']\n",
    "    data = []\n",
    "\n",
    "    # Open and read the file\n",
    "    with open(file_path, 'r') as f:\n",
    "        for line in f:\n",
    "            # Ignore lines starting with '#' (comments)\n",
    "            if line.startswith(\"#\"):\n",
    "                continue\n",
    "            parts = line.split()\n",
    "            if len(parts) == 12:  # Ensure correct number of columns\n",
    "                filter_name, mjd, mag, mag_err, sig_lim, sat_lim, rate, rate_err, ap, frame_time, exp, telapse = parts\n",
    "                # Handle 'NULL' entries as None\n",
    "                rate = np.nan if rate == 'NULL' else float(rate)\n",
    "                mjd = float(mjd)\n",
    "                data.append([filter_name, mjd, rate, rate_err,telapse])\n",
    "\n",
    "    # Convert the list to a pandas DataFrame\n",
    "    df = pd.DataFrame(data,columns=['Filter','MJD','Rate','RateErr','Telapse'])  # Only use Filter, MJD, and Rate\n",
    "    #print(df)\n",
    "    return df\n",
    "\n"
   ]
  },
  {
   "cell_type": "code",
   "execution_count": 2,
   "id": "ac325e9c-5383-49bd-ab23-0a9b3ecec393",
   "metadata": {},
   "outputs": [],
   "source": [
    "def group_mjds(df, tolerance=0.15):\n",
    "    # Get unique MJDs\n",
    "    unique_mjd = sorted(df['MJD'].unique())\n",
    "    avgmjd_list=[]\n",
    "    # Iterate through each unique MJD\n",
    "    for mjd in unique_mjd:\n",
    "        # Filter data within 0.15 days of the current MJD\n",
    "        subset = df[np.abs(df['MJD'] - mjd) <= tolerance ]\n",
    "        #subset = df[np.abs(df['MJD'] - mjd) <= tolerance or (((df['MJD'] - df['Telapse']/60/60/24/2) < mjd) and ((df['MJD'] + df['Telapse']/60/60/24/2) > mjd))]\n",
    "        avgmjd=np.mean(subset['MJD'])\n",
    "        #print(avgmjd)\n",
    "        avgmjd_list.append(avgmjd)\n",
    "    mjddf=pd.DataFrame(avgmjd_list)\n",
    "    #print(mjddf)\n",
    "    mjd_groups=sorted(mjddf[0].unique())\n",
    "    #print(mjd_groups)\n",
    "    return mjd_groups \n"
   ]
  },
  {
   "cell_type": "code",
   "execution_count": 3,
   "id": "1d3fe0e5-c6a9-47ce-b120-3ad462719d1c",
   "metadata": {},
   "outputs": [],
   "source": [
    "# Function to group data by MJD within the 0.15 MJD tolerance\n",
    "def organize_by_mjd(df, tolerance=0.15):\n",
    "    # Initialize an empty list to store rows\n",
    "    result = []\n",
    "\n",
    "    # Get unique MJDs\n",
    "    unique_mjd = sorted(df['MJD'].unique())\n",
    "\n",
    "    avgmjd_list=[]\n",
    "    # Iterate through each unique MJD\n",
    "    for mjd in unique_mjd:\n",
    "        # Filter data within 0.15 days of the current MJD\n",
    "        subset = df[np.abs(df['MJD'] - mjd) <= tolerance ]\n",
    "        #subset = df[np.abs(df['MJD'] - mjd) <= tolerance or (((df['MJD'] - df['Telapse']/60/60/24/2) < mjd) and ((df['MJD'] + df['Telapse']/60/60/24/2) > mjd))]\n",
    "        avgmjd=np.mean(subset['MJD'])\n",
    "        #print(avgmjd)\n",
    "        avgmjd_list.append(avgmjd)\n",
    "    mjddf=pd.DataFrame(avgmjd_list)\n",
    "    #print(mjddf)\n",
    "    mjd_groups=sorted(mjddf[0].unique())\n",
    "    \n",
    "\n",
    "    \n",
    "    # Iterate through each unique MJD\n",
    "    for mjd in mjd_groups:\n",
    "        # Filter data within 0.15 days of the current MJD\n",
    "        subset = df[np.abs(df['MJD'] - mjd) <= tolerance]\n",
    "        #print(subset)\n",
    "        # Initialize a row with MJD and placeholders for each filter\n",
    "        row = [mjd, None, None, None, None, None, None, None, None, None, None, None, None]  # MJD, UVW2, UVM2, UVW1, U, B, V\n",
    "        \n",
    "        # Fill in the count rates for each filter\n",
    "        for _, entry in subset.iterrows():\n",
    "            #print(entry)\n",
    "            if entry['Filter'] == 'UVW2':\n",
    "                row[1] = entry['Rate']\n",
    "                row[2] = entry['RateErr']\n",
    "            elif entry['Filter'] == 'UVM2':\n",
    "                row[3] = entry['Rate']\n",
    "                row[4] = entry['RateErr']\n",
    "            elif entry['Filter'] == 'UVW1':\n",
    "                row[5] = entry['Rate']\n",
    "                row[6] = entry['RateErr']\n",
    "            elif entry['Filter'] == 'U':\n",
    "                row[7] = entry['Rate']\n",
    "                row[8] = entry['RateErr']\n",
    "            elif entry['Filter'] == 'B':\n",
    "                row[9] = entry['Rate']\n",
    "                row[10] = entry['RateErr']\n",
    "            elif entry['Filter'] == 'V':\n",
    "                row[11] = entry['Rate']\n",
    "                row[12] = entry['RateErr']\n",
    "        \n",
    "        # Append the row to the result\n",
    "        result.append(row)\n",
    "\n",
    "    # Convert result to a numpy array for convenience\n",
    "    result_array = np.array(result)\n",
    "    return result_array\n"
   ]
  },
  {
   "cell_type": "code",
   "execution_count": 5,
   "id": "95adda39-6342-4f84-8a48-b54e170d7d63",
   "metadata": {},
   "outputs": [
    {
     "name": "stdout",
     "output_type": "stream",
     "text": [
      "              MJD   UVW2 UVW2err   UVM2 UVM2err    UVW1 UVW1err        U  \\\n",
      "0     54161.85323  0.267   0.048  0.032   0.025   1.199   0.097   15.275   \n",
      "1     54165.06481   1.02   0.108  0.106   0.039   5.258   0.337   60.515   \n",
      "2    54169.660617  1.279   0.131  0.606   0.084  12.294   0.716  121.711   \n",
      "3     54170.63372  2.411   0.226  0.867   0.119  12.538   0.713  121.721   \n",
      "4    54171.535133  2.517   0.205  0.686   0.091  13.576   0.756   126.88   \n",
      "..            ...    ...     ...    ...     ...     ...     ...      ...   \n",
      "129  54448.107269 -0.019   0.040 -0.042   0.029    None    None     None   \n",
      "130  54448.140655  -0.01   0.041  0.051   0.037    None    None     None   \n",
      "131  54448.207255  0.016   0.042  0.008   0.034    None    None     None   \n",
      "132  54448.240694  0.016   0.042  0.008   0.034    None    None     None   \n",
      "133    54448.2742  0.016   0.042  0.008   0.034    None    None     None   \n",
      "\n",
      "      Uerr        B   Berr       V   Verr  \n",
      "0    0.797   39.971  1.381  14.393  0.695  \n",
      "1    2.377  100.605  2.900  32.774  1.213  \n",
      "2    4.572  183.893  5.006  60.094  1.890  \n",
      "3    4.573  197.413  5.390  63.164  2.036  \n",
      "4    4.754   201.98  5.467  67.194  2.057  \n",
      "..     ...      ...    ...     ...    ...  \n",
      "129   None    -0.29  0.271  -0.056  0.210  \n",
      "130   None    0.088  0.284  -0.109  0.208  \n",
      "131   None   -0.092  0.277  -0.173  0.206  \n",
      "132   None   -0.092  0.277  -0.173  0.206  \n",
      "133   None   -0.092  0.277  -0.173  0.206  \n",
      "\n",
      "[134 rows x 13 columns]\n"
     ]
    }
   ],
   "source": [
    "\n",
    "# Main function to run the program\n",
    "def main(file_path):\n",
    "    # Parse the data from the file\n",
    "    df = parse_data(file_path)\n",
    "\n",
    "    mjd_groups=group_mjds(df, tolerance=0.15)\n",
    "    \n",
    "    # Organize the data by MJD with the tolerance of 0.15 days\n",
    "    result_array = organize_by_mjd(df)\n",
    "\n",
    "    # Convert to a DataFrame for better visualization\n",
    "    result_df = pd.DataFrame(result_array, columns=['MJD', 'UVW2', 'UVW2err', 'UVM2', 'UVM2err', 'UVW1', 'UVW1err', 'U', 'Uerr', 'B', 'Berr', 'V', 'Verr'])\n",
    "    \n",
    "    print(result_df)\n",
    "    return result_df\n",
    "\n",
    "# Provide the path to your data file here\n",
    "file_path = '../input/SN2007af_uvotB15.1.dat'\n",
    "result = main(file_path)\n"
   ]
  },
  {
   "cell_type": "code",
   "execution_count": 6,
   "id": "0b0ebdea-8432-4f4e-94ad-71c7e2f72d8b",
   "metadata": {},
   "outputs": [
    {
     "name": "stdout",
     "output_type": "stream",
     "text": [
      "              MJD   UVW2 UVW2err   UVM2 UVM2err    UVW1 UVW1err        U  \\\n",
      "0     54161.85323  0.267   0.048  0.032   0.025   1.199   0.097   15.275   \n",
      "1     54165.06481   1.02   0.108  0.106   0.039   5.258   0.337   60.515   \n",
      "2    54169.660617  1.279   0.131  0.606   0.084  12.294   0.716  121.711   \n",
      "3     54170.63372  2.411   0.226  0.867   0.119  12.538   0.713  121.721   \n",
      "4    54171.535133  2.517   0.205  0.686   0.091  13.576   0.756   126.88   \n",
      "..            ...    ...     ...    ...     ...     ...     ...      ...   \n",
      "129  54448.107269 -0.019   0.040 -0.042   0.029    None    None     None   \n",
      "130  54448.140655  -0.01   0.041  0.051   0.037    None    None     None   \n",
      "131  54448.207255  0.016   0.042  0.008   0.034    None    None     None   \n",
      "132  54448.240694  0.016   0.042  0.008   0.034    None    None     None   \n",
      "133    54448.2742  0.016   0.042  0.008   0.034    None    None     None   \n",
      "\n",
      "      Uerr        B   Berr       V   Verr  \n",
      "0    0.797   39.971  1.381  14.393  0.695  \n",
      "1    2.377  100.605  2.900  32.774  1.213  \n",
      "2    4.572  183.893  5.006  60.094  1.890  \n",
      "3    4.573  197.413  5.390  63.164  2.036  \n",
      "4    4.754   201.98  5.467  67.194  2.057  \n",
      "..     ...      ...    ...     ...    ...  \n",
      "129   None    -0.29  0.271  -0.056  0.210  \n",
      "130   None    0.088  0.284  -0.109  0.208  \n",
      "131   None   -0.092  0.277  -0.173  0.206  \n",
      "132   None   -0.092  0.277  -0.173  0.206  \n",
      "133   None   -0.092  0.277  -0.173  0.206  \n",
      "\n",
      "[134 rows x 13 columns]\n"
     ]
    }
   ],
   "source": [
    "df=main('../input/SN2007af_uvotB15.1.dat')"
   ]
  },
  {
   "cell_type": "code",
   "execution_count": 24,
   "id": "7d6c7cec-cd43-4faa-be1a-18237cefe010",
   "metadata": {},
   "outputs": [
    {
     "name": "stdout",
     "output_type": "stream",
     "text": [
      "54165.064809999996\n"
     ]
    },
    {
     "ename": "NameError",
     "evalue": "name 'column_names' is not defined",
     "output_type": "error",
     "traceback": [
      "\u001b[0;31m---------------------------------------------------------------------------\u001b[0m",
      "\u001b[0;31mNameError\u001b[0m                                 Traceback (most recent call last)",
      "Cell \u001b[0;32mIn[24], line 15\u001b[0m\n\u001b[1;32m     13\u001b[0m \u001b[38;5;28;01mwith\u001b[39;00m \u001b[38;5;28mopen\u001b[39m(\u001b[38;5;124m'\u001b[39m\u001b[38;5;124m../input/COUNTS/\u001b[39m\u001b[38;5;124m'\u001b[39m\u001b[38;5;241m+\u001b[39m sn_name \u001b[38;5;241m+\u001b[39m \u001b[38;5;124m'\u001b[39m\u001b[38;5;124m_countsarray.csv\u001b[39m\u001b[38;5;124m'\u001b[39m, \u001b[38;5;124m'\u001b[39m\u001b[38;5;124mw\u001b[39m\u001b[38;5;124m'\u001b[39m, newline \u001b[38;5;241m=\u001b[39m\u001b[38;5;124m'\u001b[39m\u001b[38;5;124m'\u001b[39m) \u001b[38;5;28;01mas\u001b[39;00m csvFile:\n\u001b[1;32m     14\u001b[0m     writer \u001b[38;5;241m=\u001b[39m csv\u001b[38;5;241m.\u001b[39mwriter(csvFile, delimiter\u001b[38;5;241m=\u001b[39m\u001b[38;5;124m'\u001b[39m\u001b[38;5;124m,\u001b[39m\u001b[38;5;124m'\u001b[39m)\n\u001b[0;32m---> 15\u001b[0m     writer\u001b[38;5;241m.\u001b[39mwriterows([\u001b[43mcolumn_names\u001b[49m])\n\u001b[1;32m     16\u001b[0m     \u001b[38;5;28;01mfor\u001b[39;00m i \u001b[38;5;129;01min\u001b[39;00m \u001b[38;5;28mrange\u001b[39m(\u001b[38;5;241m0\u001b[39m,\u001b[38;5;28mlen\u001b[39m(df[\u001b[38;5;124m'\u001b[39m\u001b[38;5;124mMJD\u001b[39m\u001b[38;5;124m'\u001b[39m])):\n\u001b[1;32m     17\u001b[0m         line \u001b[38;5;241m=\u001b[39m np\u001b[38;5;241m.\u001b[39mzeros(\u001b[38;5;241m1\u001b[39m\u001b[38;5;241m+\u001b[39m\u001b[38;5;241m2\u001b[39m\u001b[38;5;241m*\u001b[39m\u001b[38;5;28mlen\u001b[39m(desired_filter_list))\n",
      "\u001b[0;31mNameError\u001b[0m: name 'column_names' is not defined"
     ]
    }
   ],
   "source": [
    "import csv\n",
    "desired_filter_list = ['UVW2', 'UVM2','UVW1',  'U', 'B', 'V']\n",
    "template_spectrum=\"../spectra/SN2017erp_m1_UVopt.dat\"\n",
    "sn_name='SN2007af'\n",
    "#filter_file_list,zeropointlist,pivotlist = filterlist_to_filterfiles(desired_filter_list, template_spectrum)\n",
    "\n",
    "\n",
    "counts_matrix = np.zeros((len(desired_filter_list),len(df['MJD'])), dtype=object)\n",
    "counterrs_matrix = np.zeros((len(desired_filter_list),len(df['MJD'])), dtype=object)\n",
    "    \n",
    "print(df['MJD'][1])\n",
    "\n",
    "with open('../input/COUNTS/'+ sn_name + '_countsarray.csv', 'w', newline ='') as csvFile:\n",
    "    writer = csv.writer(csvFile, delimiter=',')\n",
    "    writer.writerows([column_names])\n",
    "    for i in range(0,len(df['MJD'])):\n",
    "        line = np.zeros(1+2*len(desired_filter_list))\n",
    "        \n",
    "        line = [df['MJD'][i],df['UVW2'][i],df['UVW2err'][i],df['UVM2'][i],df['UVM2err'][i],df['UVW1'][i],df['UVW1err'][i],df['U'][i],df['Uerr'][i],df['B'][i],df['Berr'][i],df['V'][i],df['Verr'][i]]\n",
    "\n",
    "        writer.writerow(line)\n",
    "\n"
   ]
  },
  {
   "cell_type": "code",
   "execution_count": 41,
   "id": "898ba7a1-4d08-4a5f-9fe1-3e56ac18f07f",
   "metadata": {},
   "outputs": [
    {
     "ename": "NameError",
     "evalue": "name 'group_mjds' is not defined",
     "output_type": "error",
     "traceback": [
      "\u001b[0;31m---------------------------------------------------------------------------\u001b[0m",
      "\u001b[0;31mNameError\u001b[0m                                 Traceback (most recent call last)",
      "Cell \u001b[0;32mIn[41], line 3\u001b[0m\n\u001b[1;32m      1\u001b[0m \u001b[38;5;28;01mfrom\u001b[39;00m \u001b[38;5;21;01mrun_pipeline\u001b[39;00m \u001b[38;5;28;01mimport\u001b[39;00m \u001b[38;5;241m*\u001b[39m\n\u001b[1;32m      2\u001b[0m file_path \u001b[38;5;241m=\u001b[39m \u001b[38;5;124m'\u001b[39m\u001b[38;5;124m../input/SN2007af_uvotB15.1.dat\u001b[39m\u001b[38;5;124m'\u001b[39m\n\u001b[0;32m----> 3\u001b[0m result\u001b[38;5;241m=\u001b[39m\u001b[43muvotmags_to_counts\u001b[49m\u001b[43m(\u001b[49m\u001b[43mfile_path\u001b[49m\u001b[43m)\u001b[49m\n",
      "File \u001b[0;32m~/Desktop/SN/github/aggienova-templates/python/run_pipeline.py:251\u001b[0m, in \u001b[0;36muvotmags_to_counts\u001b[0;34m(file_path)\u001b[0m\n\u001b[1;32m    248\u001b[0m \u001b[38;5;66;03m# Convert the list to a pandas DataFrame\u001b[39;00m\n\u001b[1;32m    249\u001b[0m df \u001b[38;5;241m=\u001b[39m pd\u001b[38;5;241m.\u001b[39mDataFrame(data,columns\u001b[38;5;241m=\u001b[39m[\u001b[38;5;124m'\u001b[39m\u001b[38;5;124mFilter\u001b[39m\u001b[38;5;124m'\u001b[39m,\u001b[38;5;124m'\u001b[39m\u001b[38;5;124mMJD\u001b[39m\u001b[38;5;124m'\u001b[39m,\u001b[38;5;124m'\u001b[39m\u001b[38;5;124mRate\u001b[39m\u001b[38;5;124m'\u001b[39m,\u001b[38;5;124m'\u001b[39m\u001b[38;5;124mRateErr\u001b[39m\u001b[38;5;124m'\u001b[39m,\u001b[38;5;124m'\u001b[39m\u001b[38;5;124mTelapse\u001b[39m\u001b[38;5;124m'\u001b[39m])  \u001b[38;5;66;03m# Only use Filter, MJD, and Rate\u001b[39;00m\n\u001b[0;32m--> 251\u001b[0m mjd_groups\u001b[38;5;241m=\u001b[39m\u001b[43mgroup_mjds\u001b[49m(df, tolerance\u001b[38;5;241m=\u001b[39m\u001b[38;5;241m0.15\u001b[39m)\n\u001b[1;32m    253\u001b[0m \u001b[38;5;66;03m# Organize the data by MJD with the tolerance of 0.15 days\u001b[39;00m\n\u001b[1;32m    254\u001b[0m \u001b[38;5;66;03m# Initialize an empty list to store rows\u001b[39;00m\n\u001b[1;32m    255\u001b[0m result \u001b[38;5;241m=\u001b[39m []\n",
      "\u001b[0;31mNameError\u001b[0m: name 'group_mjds' is not defined"
     ]
    }
   ],
   "source": [
    "from run_pipeline import *\n",
    "file_path = '../input/SN2007af_uvotB15.1.dat'\n",
    "result=uvotmags_to_counts(file_path)"
   ]
  },
  {
   "cell_type": "code",
   "execution_count": 40,
   "id": "7096b59b-f864-4419-871f-c0352a8f76c7",
   "metadata": {},
   "outputs": [
    {
     "ename": "NameError",
     "evalue": "name 'group_mjds' is not defined",
     "output_type": "error",
     "traceback": [
      "\u001b[0;31m---------------------------------------------------------------------------\u001b[0m",
      "\u001b[0;31mNameError\u001b[0m                                 Traceback (most recent call last)",
      "Cell \u001b[0;32mIn[40], line 2\u001b[0m\n\u001b[1;32m      1\u001b[0m file_path \u001b[38;5;241m=\u001b[39m \u001b[38;5;124m'\u001b[39m\u001b[38;5;124m../input/SN2007af_uvotB15.1.dat\u001b[39m\u001b[38;5;124m'\u001b[39m\n\u001b[0;32m----> 2\u001b[0m result\u001b[38;5;241m=\u001b[39m\u001b[43muvotmags_to_counts\u001b[49m\u001b[43m(\u001b[49m\u001b[43mfile_path\u001b[49m\u001b[43m)\u001b[49m\n",
      "File \u001b[0;32m~/Desktop/SN/github/aggienova-templates/python/run_pipeline.py:251\u001b[0m, in \u001b[0;36muvotmags_to_counts\u001b[0;34m(file_path)\u001b[0m\n\u001b[1;32m    248\u001b[0m \u001b[38;5;66;03m# Convert the list to a pandas DataFrame\u001b[39;00m\n\u001b[1;32m    249\u001b[0m df \u001b[38;5;241m=\u001b[39m pd\u001b[38;5;241m.\u001b[39mDataFrame(data,columns\u001b[38;5;241m=\u001b[39m[\u001b[38;5;124m'\u001b[39m\u001b[38;5;124mFilter\u001b[39m\u001b[38;5;124m'\u001b[39m,\u001b[38;5;124m'\u001b[39m\u001b[38;5;124mMJD\u001b[39m\u001b[38;5;124m'\u001b[39m,\u001b[38;5;124m'\u001b[39m\u001b[38;5;124mRate\u001b[39m\u001b[38;5;124m'\u001b[39m,\u001b[38;5;124m'\u001b[39m\u001b[38;5;124mRateErr\u001b[39m\u001b[38;5;124m'\u001b[39m,\u001b[38;5;124m'\u001b[39m\u001b[38;5;124mTelapse\u001b[39m\u001b[38;5;124m'\u001b[39m])  \u001b[38;5;66;03m# Only use Filter, MJD, and Rate\u001b[39;00m\n\u001b[0;32m--> 251\u001b[0m mjd_groups\u001b[38;5;241m=\u001b[39m\u001b[43mgroup_mjds\u001b[49m(df, tolerance\u001b[38;5;241m=\u001b[39m\u001b[38;5;241m0.15\u001b[39m)\n\u001b[1;32m    253\u001b[0m \u001b[38;5;66;03m# Organize the data by MJD with the tolerance of 0.15 days\u001b[39;00m\n\u001b[1;32m    254\u001b[0m \u001b[38;5;66;03m# Initialize an empty list to store rows\u001b[39;00m\n\u001b[1;32m    255\u001b[0m result \u001b[38;5;241m=\u001b[39m []\n",
      "\u001b[0;31mNameError\u001b[0m: name 'group_mjds' is not defined"
     ]
    }
   ],
   "source": []
  },
  {
   "cell_type": "code",
   "execution_count": null,
   "id": "397e2cca-d61f-4921-9841-380a55ea984f",
   "metadata": {},
   "outputs": [],
   "source": []
  }
 ],
 "metadata": {
  "kernelspec": {
   "display_name": "Python 3 (ipykernel)",
   "language": "python",
   "name": "python3"
  },
  "language_info": {
   "codemirror_mode": {
    "name": "ipython",
    "version": 3
   },
   "file_extension": ".py",
   "mimetype": "text/x-python",
   "name": "python",
   "nbconvert_exporter": "python",
   "pygments_lexer": "ipython3",
   "version": "3.10.10"
  }
 },
 "nbformat": 4,
 "nbformat_minor": 5
}
