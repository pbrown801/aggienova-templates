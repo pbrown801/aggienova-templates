{
 "cells": [
  {
   "cell_type": "code",
   "execution_count": 1,
   "id": "d30e9db5-c770-4bc9-aab3-6135a7592ab9",
   "metadata": {},
   "outputs": [
    {
     "name": "stdout",
     "output_type": "stream",
     "text": [
      "spec in mags [-0.02634842 -0.00798931 -0.0053364  -0.00283645  0.00930069  0.00724937]\n",
      "spec in counts [ 9173590.88384737  5535995.44896187  9508993.70113994 21733745.70466183\n",
      " 43679707.91718382 14226571.58131668]\n",
      "input mags   [0. 0. 0. 0. 0. 0.]\n",
      "counts in [ 9036494.73722302  5546257.1295791   9462371.61365795 21677041.04819696\n",
      " 43651583.22401665 14190575.2168909 ]\n",
      "counts ratio before mangle [0.98505535 1.00185363 0.99509705 0.99739094 0.99935612 0.99746978]\n",
      "inside mangle simple\n",
      "[0.98585984 1.00267343 0.99591106 0.99818174 1.00016487 0.99828719]\n",
      "[0.98585984 1.00267343 0.99591106 0.99818174 1.00016487 0.99828719]\n",
      "fractional error [ 4.20903316e-03 -7.53831766e-03  5.94758050e-04  8.23424688e-05\n",
      " -4.73515005e-04  1.80055996e-04]\n",
      "mangle counts  [ 9081940.60053852  5508951.97356275  9475744.4445317  21696013.85237851\n",
      " 43666223.47672381 14204761.20912506]\n",
      "mangle mags  [-0.01544664 -0.00267247 -0.00153335 -0.00094987  0.00963592  0.00891516]\n"
     ]
    }
   ],
   "source": [
    "from utilities import *\n",
    "from speccounts import *\n",
    "vega_wave,vega_flux = np.loadtxt('../spectra/vega.dat',dtype=float,usecols=(0,1),unpack=True)\n",
    "desired_filter_list = ['UVW2', 'UVM2','UVW1',  'U', 'B', 'V']\n",
    "template_spectrum='vega.dat'\n",
    "filter_file_list,zeropointlist,pivotlist = filterlist_to_filterfiles(desired_filter_list, template_spectrum)\n",
    "inspeccounts, inspecmags=specin_countsout(vega_wave,vega_flux)\n",
    "print(\"spec in mags\", inspecmags)\n",
    "print(\"spec in counts\", inspeccounts)\n",
    "\n",
    "maglist=np.array([1,1,1,1,1,1.0])\n",
    "maglist=np.array([0,0,0,0,0,0.0])\n",
    "#maglist=np.array([8,8,8,8,8,8.0])\n",
    "print(\"input mags  \", maglist) \n",
    "counts_in=10**((np.array(zeropointlist)-np.array(maglist))/2.5)\n",
    "print(\"counts in\", counts_in)\n",
    "\n",
    "print(\"counts ratio before mangle\", counts_in/inspeccounts)\n",
    "\n",
    "manglewave,mangleflux=mangle_simple(vega_wave, vega_flux, filter_file_list, zeropointlist, pivotlist, counts_in)\n",
    "manglecounts, manglemags=specin_countsout(manglewave,mangleflux)\n",
    "\n",
    "print(\"mangle counts \", manglecounts)\n",
    "print(\"mangle mags \", manglemags)\n"
   ]
  },
  {
   "cell_type": "code",
   "execution_count": 2,
   "id": "02e2df98-2b66-4aaf-a090-1a8281c6ac53",
   "metadata": {},
   "outputs": [
    {
     "name": "stdout",
     "output_type": "stream",
     "text": [
      "spec in counts    [9173590, 5535995, 9508993, 21733745, 43679707, 14226571]\n",
      "mags [-0.01634842  0.00201069 -0.0053364  -0.00283645 -0.00069931 -0.00275063]\n",
      "total counts      [9166150, 5531469, 9501221, 21716527, 43644387, 14214922]\n",
      "mags [-0.01546747  0.00289869 -0.00444861 -0.00197595  0.00017899 -0.00186126]\n",
      "get counts        [9166104, 5531469, 9501221, 21716527, 43644387, 14214922]\n",
      "mags [-0.01546206  0.00289877 -0.00444861 -0.00197595  0.00017899 -0.00186126]\n",
      "specarray counts  [9166104, 5531469, 9501221, 21716527, 43644387, 14214922]\n",
      "mags [-0.01546206  0.00289877 -0.00444861 -0.00197595  0.00017899 -0.00186126]\n"
     ]
    }
   ],
   "source": [
    "######## comparing counts from different subroutines\n",
    "\n",
    "from utilities import *\n",
    "from speccounts import *\n",
    "import math\n",
    "vega_wave,vega_flux = np.loadtxt('../spectra/vega.dat',dtype=float,usecols=(0,1),unpack=True)\n",
    "desired_filter_list = ['UVW2', 'UVM2','UVW1',  'U', 'B', 'V']\n",
    "template_spectrum='vega.dat'\n",
    "filter_file_list,zeropointlist,pivotlist = filterlist_to_filterfiles(desired_filter_list, template_spectrum)\n",
    "\n",
    "inspeccounts, inspecmags=specin_countsout(vega_wave,vega_flux)\n",
    "#print(\"spec in mags\", inspecmags)\n",
    "print(\"spec in counts   \", list(map(int,inspeccounts)))\n",
    "print(\"mags\", -2.5*np.log10(np.array(inspeccounts))+zeropointlist )      \n",
    "\n",
    "\n",
    "\n",
    "spectraWavelengths,flux,total_counts_array=total_counts(template_spectrum,filter_file_list)\n",
    "print(\"total counts     \", list(map(int,total_counts_array)))\n",
    "print(\"mags\", -2.5*np.log10(np.array(total_counts_array))+zeropointlist )      \n",
    "\n",
    "stacked_spec = np.column_stack((vega_wave,vega_flux))\n",
    "get_counts_array=get_counts_multi_filter(stacked_spec, filter_file_list)\n",
    "print(\"get counts       \", list(map(int,get_counts_array)))\n",
    "print(\"mags\", -2.5*np.log10(np.array(get_counts_array))+zeropointlist )      \n",
    "\n",
    "\n",
    "specarray_counts_array= specarray_to_counts(stacked_spec, filter_file_list)\n",
    "print(\"specarray counts \", list(map(int,specarray_counts_array)))\n",
    "\n",
    "print(\"mags\", -2.5*np.log10(np.array(specarray_counts_array))+zeropointlist )      \n",
    "\n"
   ]
  },
  {
   "cell_type": "code",
   "execution_count": 3,
   "id": "67db9f01-c5d8-4907-a566-df3c26a0e8ff",
   "metadata": {},
   "outputs": [
    {
     "name": "stdout",
     "output_type": "stream",
     "text": [
      "input mags   [1. 1. 1. 1. 1. 1.]\n",
      "inside mangle simple\n",
      "[ 743803.90729204  527881.47729112  545593.88929215  825937.64528555\n",
      " 2643384.87059146 2885703.18126521]\n",
      "[ 743803.90729204  527881.47729112  545593.88929215  825937.64528555\n",
      " 2643384.87059146 2885703.18126521]\n",
      "fractional error [-0.09467515  0.1387118   0.13974483  0.18965197 -0.09011132 -0.00858343]\n",
      "output mags  [1.09713859 0.84809561 0.85729448 0.81056249 1.11164163 1.01847226]\n"
     ]
    }
   ],
   "source": [
    "template_spectrum='Gaia16apd_uv.dat'\n",
    "template_wave,template_flux = np.loadtxt('../spectra/'+template_spectrum,dtype=float,usecols=(0,1),unpack=True)\n",
    "desired_filter_list = ['UVW2', 'UVM2','UVW1',  'U', 'B', 'V']\n",
    "filter_file_list,zeropointlist,pivotlist = filterlist_to_filterfiles(desired_filter_list, template_spectrum)\n",
    "maglist=np.array([1,1,1,1,1,1.0])\n",
    "print(\"input mags  \", maglist) \n",
    "counts_in=10**((np.array(zeropointlist)-np.array(maglist))/2.5)\n",
    "\n",
    "manglewave,mangleflux=mangle_simple(template_wave, template_flux, filter_file_list, zeropointlist, pivotlist, counts_in)\n",
    "manglecounts, manglemags=specin_countsout(manglewave,mangleflux)\n",
    "print(\"output mags \", manglemags)\n"
   ]
  },
  {
   "cell_type": "code",
   "execution_count": 4,
   "id": "a57ba0a2-db8b-480d-bf26-6e16cd1bdbc1",
   "metadata": {},
   "outputs": [
    {
     "name": "stdout",
     "output_type": "stream",
     "text": [
      "input mags   [1. 1. 1. 1. 1. 1.]\n",
      "inside mangle simple\n",
      "[35860.05944701 55116.55886295  9626.694873    2441.08055419\n",
      "  3676.31054563  3756.37836819]\n",
      "[35860.05944701 55116.55886295  9626.694873    2441.08055419\n",
      "  3676.31054563  3756.37836819]\n",
      "fractional error [-0.52055904 -0.46187312 -0.21846909  0.30998669 -0.04959533 -0.00211504]\n",
      "output mags  [1.78726627 1.66189681 1.26675171 0.7059735  1.0643354  1.01140551]\n"
     ]
    }
   ],
   "source": [
    "template_spectrum='SN2011fe_uv.dat'\n",
    "template_wave,template_flux = np.loadtxt('../spectra/'+template_spectrum,dtype=float,usecols=(0,1),unpack=True)\n",
    "desired_filter_list = ['UVW2', 'UVM2','UVW1',  'U', 'B', 'V']\n",
    "filter_file_list,zeropointlist,pivotlist = filterlist_to_filterfiles(desired_filter_list, template_spectrum)\n",
    "maglist=np.array([1,1,1,1,1,1.0])\n",
    "print(\"input mags  \", maglist) \n",
    "counts_in=10**((np.array(zeropointlist)-np.array(maglist))/2.5)\n",
    "\n",
    "manglewave,mangleflux=mangle_simple(template_wave, template_flux, filter_file_list, zeropointlist, pivotlist, counts_in)\n",
    "manglecounts, manglemags=specin_countsout(manglewave,mangleflux)\n",
    "print(\"output mags \", manglemags)\n"
   ]
  },
  {
   "cell_type": "code",
   "execution_count": null,
   "id": "79557b80-e6b2-4770-b3c2-26cd8f8efa58",
   "metadata": {},
   "outputs": [],
   "source": []
  }
 ],
 "metadata": {
  "kernelspec": {
   "display_name": "Python 3 (ipykernel)",
   "language": "python",
   "name": "python3"
  },
  "language_info": {
   "codemirror_mode": {
    "name": "ipython",
    "version": 3
   },
   "file_extension": ".py",
   "mimetype": "text/x-python",
   "name": "python",
   "nbconvert_exporter": "python",
   "pygments_lexer": "ipython3",
   "version": "3.11.12"
  }
 },
 "nbformat": 4,
 "nbformat_minor": 5
}
