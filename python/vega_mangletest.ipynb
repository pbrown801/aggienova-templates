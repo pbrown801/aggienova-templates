{
 "cells": [
  {
   "cell_type": "code",
   "execution_count": 1,
   "id": "d30e9db5-c770-4bc9-aab3-6135a7592ab9",
   "metadata": {},
   "outputs": [
    {
     "name": "stdout",
     "output_type": "stream",
     "text": [
      "[np.float64(2057.960085337329), np.float64(2246.9531345248747), np.float64(2582.5293645819106), np.float64(3467.023178253313), np.float64(4349.544286459305), np.float64(5424.609243737185)]\n",
      "input mags   [1. 1. 1. 1. 1. 1.]\n",
      "output mags  [0.98455336 0.99732753 0.99846665 0.99905013 1.00963592 1.00891516]\n"
     ]
    }
   ],
   "source": [
    "from utilities import *\n",
    "from speccounts import *\n",
    "vega_wave,vega_flux = np.loadtxt('../spectra/vega.dat',dtype=float,usecols=(0,1),unpack=True)\n",
    "desired_filter_list = ['UVW2', 'UVM2','UVW1',  'U', 'B', 'V']\n",
    "template_spectrum='vega.dat'\n",
    "filter_file_list,zeropointlist,pivotlist = filterlist_to_filterfiles(desired_filter_list, template_spectrum)\n",
    "maglist=np.array([1,1,1,1,1,1.0])\n",
    "print(\"input mags  \", maglist) \n",
    "counts_in=10**((np.array(zeropointlist)-np.array(maglist))/2.5)\n",
    "\n",
    "manglewave,mangleflux=mangle_simple(vega_wave, vega_flux, filter_file_list, zeropointlist, pivotlist, counts_in)\n",
    "manglecounts, manglemags=specin_countsout(manglewave,mangleflux)\n",
    "print(\"output mags \", manglemags)\n"
   ]
  },
  {
   "cell_type": "code",
   "execution_count": 2,
   "id": "67db9f01-c5d8-4907-a566-df3c26a0e8ff",
   "metadata": {},
   "outputs": [
    {
     "name": "stdout",
     "output_type": "stream",
     "text": [
      "[np.float64(2057.960085337329), np.float64(2246.9531345248747), np.float64(2582.5293645819106), np.float64(3467.023178253313), np.float64(4349.544286459305), np.float64(5424.609243737185)]\n",
      "input mags   [1. 1. 1. 1. 1. 1.]\n",
      "output mags  [1.09713859 0.84809561 0.85729448 0.81056249 1.11164163 1.01847226]\n"
     ]
    }
   ],
   "source": [
    "template_spectrum='Gaia16apd_uv.dat'\n",
    "template_wave,template_flux = np.loadtxt('../spectra/'+template_spectrum,dtype=float,usecols=(0,1),unpack=True)\n",
    "desired_filter_list = ['UVW2', 'UVM2','UVW1',  'U', 'B', 'V']\n",
    "filter_file_list,zeropointlist,pivotlist = filterlist_to_filterfiles(desired_filter_list, template_spectrum)\n",
    "maglist=np.array([1,1,1,1,1,1.0])\n",
    "print(\"input mags  \", maglist) \n",
    "counts_in=10**((np.array(zeropointlist)-np.array(maglist))/2.5)\n",
    "\n",
    "manglewave,mangleflux=mangle_simple(template_wave, template_flux, filter_file_list, zeropointlist, pivotlist, counts_in)\n",
    "manglecounts, manglemags=specin_countsout(manglewave,mangleflux)\n",
    "print(\"output mags \", manglemags)\n"
   ]
  },
  {
   "cell_type": "code",
   "execution_count": 3,
   "id": "a57ba0a2-db8b-480d-bf26-6e16cd1bdbc1",
   "metadata": {},
   "outputs": [
    {
     "name": "stdout",
     "output_type": "stream",
     "text": [
      "[np.float64(2057.960085337329), np.float64(2246.9531345248747), np.float64(2582.5293645819106), np.float64(3467.023178253313), np.float64(4349.544286459305), np.float64(5424.609243737185)]\n",
      "input mags   [1. 1. 1. 1. 1. 1.]\n",
      "output mags  [1.78726627 1.66189681 1.26675171 0.7059735  1.0643354  1.01140551]\n"
     ]
    }
   ],
   "source": [
    "template_spectrum='SN2011fe_uv.dat'\n",
    "template_wave,template_flux = np.loadtxt('../spectra/'+template_spectrum,dtype=float,usecols=(0,1),unpack=True)\n",
    "desired_filter_list = ['UVW2', 'UVM2','UVW1',  'U', 'B', 'V']\n",
    "filter_file_list,zeropointlist,pivotlist = filterlist_to_filterfiles(desired_filter_list, template_spectrum)\n",
    "maglist=np.array([1,1,1,1,1,1.0])\n",
    "print(\"input mags  \", maglist) \n",
    "counts_in=10**((np.array(zeropointlist)-np.array(maglist))/2.5)\n",
    "\n",
    "manglewave,mangleflux=mangle_simple(template_wave, template_flux, filter_file_list, zeropointlist, pivotlist, counts_in)\n",
    "manglecounts, manglemags=specin_countsout(manglewave,mangleflux)\n",
    "print(\"output mags \", manglemags)\n"
   ]
  },
  {
   "cell_type": "code",
   "execution_count": null,
   "id": "79557b80-e6b2-4770-b3c2-26cd8f8efa58",
   "metadata": {},
   "outputs": [],
   "source": []
  }
 ],
 "metadata": {
  "kernelspec": {
   "display_name": "Python 3 (ipykernel)",
   "language": "python",
   "name": "python3"
  },
  "language_info": {
   "codemirror_mode": {
    "name": "ipython",
    "version": 3
   },
   "file_extension": ".py",
   "mimetype": "text/x-python",
   "name": "python",
   "nbconvert_exporter": "python",
   "pygments_lexer": "ipython3",
   "version": "3.11.12"
  }
 },
 "nbformat": 4,
 "nbformat_minor": 5
}
