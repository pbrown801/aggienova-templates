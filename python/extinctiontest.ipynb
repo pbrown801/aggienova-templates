{
 "cells": [
  {
   "cell_type": "code",
   "execution_count": 1,
   "metadata": {},
   "outputs": [],
   "source": [
    "import numpy as np\n",
    "from astropy.modeling.models import BlackBody1D\n",
    "import astropy.units as u\n",
    "\n"
   ]
  },
  {
   "cell_type": "code",
   "execution_count": 5,
   "metadata": {},
   "outputs": [
    {
     "name": "stdout",
     "output_type": "stream",
     "text": [
      "Model: BlackBody1D\n",
      "Inputs: ('x',)\n",
      "Outputs: ('y',)\n",
      "Model set size: 1\n",
      "Parameters:\n",
      "    temperature bolometric_flux\n",
      "         K       erg / (cm2 s) \n",
      "    ----------- ---------------\n",
      "        10000.0             1.0\n"
     ]
    }
   ],
   "source": [
    "# wavelengths and spectrum are 1D arrays\n",
    "# wavelengths between 1000 and 30000 A\n",
    "wavelengths = np.logspace(np.log10(1000), np.log10(3e4), num=1000)*u.AA\n",
    "bb_lam = BlackBody1D(10000*u.K)\n",
    "spectrum = bb_lam(wavelengths)\n",
    "print(bb_lam)"
   ]
  },
  {
   "cell_type": "code",
   "execution_count": 6,
   "metadata": {},
   "outputs": [],
   "source": [
    "from dust_extinction.parameter_averages import F99\n",
    "\n",
    "# define the model\n",
    "ext = F99(Rv=3.1)"
   ]
  },
  {
   "cell_type": "code",
   "execution_count": 7,
   "metadata": {},
   "outputs": [
    {
     "name": "stdout",
     "output_type": "stream",
     "text": [
      "<class 'dust_extinction.parameter_averages.F99'>\n",
      "Name: F99\n",
      "Inputs: ()\n",
      "Outputs: ()\n",
      "Fittable parameters: ('Rv',)\n"
     ]
    }
   ],
   "source": [
    "print(F99)"
   ]
  },
  {
   "cell_type": "code",
   "execution_count": null,
   "metadata": {},
   "outputs": [],
   "source": []
  }
 ],
 "metadata": {
  "kernelspec": {
   "display_name": "Python 3",
   "language": "python",
   "name": "python3"
  },
  "language_info": {
   "codemirror_mode": {
    "name": "ipython",
    "version": 3
   },
   "file_extension": ".py",
   "mimetype": "text/x-python",
   "name": "python",
   "nbconvert_exporter": "python",
   "pygments_lexer": "ipython3",
   "version": "3.7.4"
  }
 },
 "nbformat": 4,
 "nbformat_minor": 2
}
